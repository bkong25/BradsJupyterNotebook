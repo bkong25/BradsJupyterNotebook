{
 "cells": [
  {
   "cell_type": "markdown",
   "id": "0cda991e-082b-4c47-aa81-18160e58043d",
   "metadata": {},
   "source": [
    "# Data Science Tools and Ecosystem"
   ]
  },
  {
   "cell_type": "markdown",
   "execution_count": null,
   "id": "fec7c909-e893-4629-be35-d59b79e47b50",
   "metadata": {},
   "outputs": [],
   "source": [
    "**Objectives:**\n",
    "+ List popular languages for Data Science\n",
    "+ List commonly used libraries used by Data Scientist\n",
    "+ Create a table of used Data Science tools\n",
    "+ Solve simple arithmetic expressions"
   ]
  },
  {
   "cell_type": "markdown",
   "id": "c3604887-2b0a-4066-956b-241a1a473ae4",
   "metadata": {},
   "source": [
    "In this notebook, Data Science Tools and Ecosystem are summarized.\n"
   ]
  },
  {
   "cell_type": "markdown",
   "id": "3586b120-98c6-4630-af84-573b84382ca0",
   "metadata": {
    "jp-MarkdownHeadingCollapsed": true
   },
   "source": [
    "Some of the popular languages that Data Scientist use are:\n",
    "1. Python\n",
    "2. R\n",
    "3. SQL"
   ]
  },
  {
   "cell_type": "markdown",
   "id": "963aa2be-d2ed-4712-9634-a9553a2a6e16",
   "metadata": {},
   "source": [
    "Some of the commonly used libraries used by Data Scientist include:\n",
    "1. Pandas\n",
    "2. NumPy\n",
    "3. Matplotlib"
   ]
  },
  {
   "cell_type": "markdown",
   "id": "55ab2941-553e-4f77-82bf-c398e5078bcc",
   "metadata": {},
   "source": [
    "|Data Science Tools|\n",
    "|---|\n",
    "|Jupyter Notebooks|\n",
    "|RStudio|\n",
    "|Git|"
   ]
  },
  {
   "cell_type": "markdown",
   "id": "aca3322e-4d47-4924-8e43-38fda15d434a",
   "metadata": {},
   "source": [
    "### Below are a few examples of evaluating arithmetic expressions in Python"
   ]
  },
  {
   "cell_type": "code",
   "execution_count": 1,
   "id": "67ca4cab-5e16-4024-8d28-2f2f047bf700",
   "metadata": {},
   "outputs": [
    {
     "data": {
      "text/plain": [
       "17"
      ]
     },
     "execution_count": 1,
     "metadata": {},
     "output_type": "execute_result"
    }
   ],
   "source": [
    "# This a simple arithmetic expression to multiply then add integers\n",
    "(3 * 4 ) + 5"
   ]
  },
  {
   "cell_type": "code",
   "execution_count": 2,
   "id": "3c40b46a-752a-44fd-928c-0d327e7bd8f5",
   "metadata": {},
   "outputs": [
    {
     "data": {
      "text/plain": [
       "3.3333333333333335"
      ]
     },
     "execution_count": 2,
     "metadata": {},
     "output_type": "execute_result"
    }
   ],
   "source": [
    "# This will convert 200 minutes to hours by dividing by 60\n",
    "200/60"
   ]
  },
  {
   "cell_type": "markdown",
   "id": "3e3d5154-2b6f-4031-af5d-cb71dc389aa8",
   "metadata": {},
   "source": [
    "## Author\n",
    "Bradford Kong"
   ]
  },
  {
   "cell_type": "code",
   "execution_count": null,
   "id": "d063314b-de41-4a36-88d8-56cec7dbe710",
   "metadata": {},
   "outputs": [],
   "source": []
  }
 ],
 "metadata": {
  "kernelspec": {
   "display_name": "Python 3 (ipykernel)",
   "language": "python",
   "name": "python3"
  },
  "language_info": {
   "codemirror_mode": {
    "name": "ipython",
    "version": 3
   },
   "file_extension": ".py",
   "mimetype": "text/x-python",
   "name": "python",
   "nbconvert_exporter": "python",
   "pygments_lexer": "ipython3",
   "version": "3.13.2"
  }
 },
 "nbformat": 4,
 "nbformat_minor": 5
}
